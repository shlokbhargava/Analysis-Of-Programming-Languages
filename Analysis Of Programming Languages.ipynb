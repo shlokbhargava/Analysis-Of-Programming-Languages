{
 "cells": [
  {
   "cell_type": "code",
   "execution_count": 1,
   "metadata": {},
   "outputs": [],
   "source": [
    "import requests\n",
    "from bs4 import BeautifulSoup\n",
    "import pandas as pd\n",
    "import matplotlib.pyplot as plt"
   ]
  },
  {
   "cell_type": "code",
   "execution_count": 2,
   "metadata": {},
   "outputs": [],
   "source": [
    "url = \"https://jobs.github.com/positions.json\""
   ]
  },
  {
   "cell_type": "code",
   "execution_count": 3,
   "metadata": {},
   "outputs": [],
   "source": [
    "response = requests.get(url)\n",
    "data = response.json()"
   ]
  },
  {
   "cell_type": "markdown",
   "metadata": {},
   "source": [
    "function to get the number of jobs for the given technology"
   ]
  },
  {
   "cell_type": "code",
   "execution_count": 4,
   "metadata": {},
   "outputs": [],
   "source": [
    "def get_number_of_jobs(technology):\n",
    "    \n",
    "    number_of_jobs = 0\n",
    "    \n",
    "    i=1\n",
    "    url = 'https://jobs.github.com/positions.json?description={}&page={}'.format(technology, i)\n",
    "    response = requests.get(url)\n",
    "    data = response.json()\n",
    "    \n",
    "    if len(data) < 50:\n",
    "        number_of_jobs = len(data)\n",
    "    else:\n",
    "        while len(data) == 50:\n",
    "            number_of_jobs = number_of_jobs + len(data)\n",
    "            i = i+1\n",
    "            url = 'https://jobs.github.com/positions.json?description={}&page={}'.format(technology, i)\n",
    "            response = requests.get(url)\n",
    "            data = response.json()\n",
    "            \n",
    "        number_of_jobs = number_of_jobs + len(data)\n",
    "    \n",
    "    return technology,number_of_jobs"
   ]
  },
  {
   "cell_type": "code",
   "execution_count": 5,
   "metadata": {},
   "outputs": [
    {
     "name": "stdout",
     "output_type": "stream",
     "text": [
      "('python', 64)\n"
     ]
    }
   ],
   "source": [
    "print(get_number_of_jobs('python'))"
   ]
  },
  {
   "cell_type": "markdown",
   "metadata": {},
   "source": [
    "Creating a python list of technologies for which the number of jobs postings is to be found"
   ]
  },
  {
   "cell_type": "code",
   "execution_count": 6,
   "metadata": {},
   "outputs": [],
   "source": [
    "technologies = ['Python', 'Java', 'R', 'JavaScript', 'Swift', 'C++', 'PHP', 'SQL', 'Go']"
   ]
  },
  {
   "cell_type": "code",
   "execution_count": 7,
   "metadata": {},
   "outputs": [],
   "source": [
    "Language = []\n",
    "no_of_jobs = []\n",
    "\n",
    "for technology in technologies:\n",
    "    tech, jobs = get_number_of_jobs(technology)\n",
    "    Language.append(tech)\n",
    "    no_of_jobs.append(jobs)"
   ]
  },
  {
   "cell_type": "markdown",
   "metadata": {},
   "source": [
    "extracting the data from the below web site"
   ]
  },
  {
   "cell_type": "code",
   "execution_count": 8,
   "metadata": {},
   "outputs": [],
   "source": [
    "baseurl = \"https://cf-courses-data.s3.us.cloud-object-storage.appdomain.cloud/IBM-DA0321EN-SkillsNetwork/labs/datasets/Programming_Languages.html\""
   ]
  },
  {
   "cell_type": "code",
   "execution_count": 9,
   "metadata": {},
   "outputs": [],
   "source": [
    "second_data = requests.get(baseurl).text"
   ]
  },
  {
   "cell_type": "code",
   "execution_count": 10,
   "metadata": {},
   "outputs": [],
   "source": [
    "soup = BeautifulSoup(second_data,\"html5lib\")"
   ]
  },
  {
   "cell_type": "markdown",
   "metadata": {},
   "source": [
    "Scrape the Language name, annual average salary and Learning Difficulty"
   ]
  },
  {
   "cell_type": "code",
   "execution_count": 11,
   "metadata": {},
   "outputs": [],
   "source": [
    "table = soup.find('table')\n",
    "\n",
    "Average_Annual_Salary = []\n",
    "Learning_Difficulty = []\n",
    "\n",
    "for row in table.find_all('tr'):\n",
    "    cols = row.find_all('td')\n",
    "    Average_Annual_Salary.append(cols[3].getText())\n",
    "    Learning_Difficulty.append(cols[4].getText())"
   ]
  },
  {
   "cell_type": "code",
   "execution_count": 12,
   "metadata": {},
   "outputs": [
    {
     "name": "stdout",
     "output_type": "stream",
     "text": [
      "Hard\n",
      "$88,726\n"
     ]
    }
   ],
   "source": [
    "Learning_Difficulty.pop(0)\n",
    "Average_Annual_Salary.pop(0)\n",
    "print(Learning_Difficulty.pop(6))\n",
    "print(Average_Annual_Salary.pop(6))"
   ]
  },
  {
   "cell_type": "code",
   "execution_count": 13,
   "metadata": {},
   "outputs": [],
   "source": [
    "df = pd.DataFrame()"
   ]
  },
  {
   "cell_type": "code",
   "execution_count": 14,
   "metadata": {},
   "outputs": [
    {
     "data": {
      "text/html": [
       "<div>\n",
       "<style scoped>\n",
       "    .dataframe tbody tr th:only-of-type {\n",
       "        vertical-align: middle;\n",
       "    }\n",
       "\n",
       "    .dataframe tbody tr th {\n",
       "        vertical-align: top;\n",
       "    }\n",
       "\n",
       "    .dataframe thead th {\n",
       "        text-align: right;\n",
       "    }\n",
       "</style>\n",
       "<table border=\"1\" class=\"dataframe\">\n",
       "  <thead>\n",
       "    <tr style=\"text-align: right;\">\n",
       "      <th></th>\n",
       "      <th>Language</th>\n",
       "      <th>Number Of Jobs</th>\n",
       "      <th>Average Annual Salary ($)</th>\n",
       "      <th>Learning Difficulty</th>\n",
       "    </tr>\n",
       "  </thead>\n",
       "  <tbody>\n",
       "    <tr>\n",
       "      <th>0</th>\n",
       "      <td>Python</td>\n",
       "      <td>64</td>\n",
       "      <td>$114,383</td>\n",
       "      <td>Easy</td>\n",
       "    </tr>\n",
       "    <tr>\n",
       "      <th>1</th>\n",
       "      <td>Java</td>\n",
       "      <td>96</td>\n",
       "      <td>$101,013</td>\n",
       "      <td>Easy</td>\n",
       "    </tr>\n",
       "    <tr>\n",
       "      <th>2</th>\n",
       "      <td>R</td>\n",
       "      <td>200</td>\n",
       "      <td>$92,037</td>\n",
       "      <td>Hard</td>\n",
       "    </tr>\n",
       "    <tr>\n",
       "      <th>3</th>\n",
       "      <td>JavaScript</td>\n",
       "      <td>69</td>\n",
       "      <td>$110,981</td>\n",
       "      <td>Easy</td>\n",
       "    </tr>\n",
       "    <tr>\n",
       "      <th>4</th>\n",
       "      <td>Swift</td>\n",
       "      <td>2</td>\n",
       "      <td>$130,801</td>\n",
       "      <td>Easy</td>\n",
       "    </tr>\n",
       "    <tr>\n",
       "      <th>5</th>\n",
       "      <td>C++</td>\n",
       "      <td>200</td>\n",
       "      <td>$113,865</td>\n",
       "      <td>Hard</td>\n",
       "    </tr>\n",
       "    <tr>\n",
       "      <th>6</th>\n",
       "      <td>PHP</td>\n",
       "      <td>35</td>\n",
       "      <td>$84,727</td>\n",
       "      <td>Easy</td>\n",
       "    </tr>\n",
       "    <tr>\n",
       "      <th>7</th>\n",
       "      <td>SQL</td>\n",
       "      <td>74</td>\n",
       "      <td>$84,793</td>\n",
       "      <td>Easy</td>\n",
       "    </tr>\n",
       "    <tr>\n",
       "      <th>8</th>\n",
       "      <td>Go</td>\n",
       "      <td>154</td>\n",
       "      <td>$94,082</td>\n",
       "      <td>Difficult</td>\n",
       "    </tr>\n",
       "  </tbody>\n",
       "</table>\n",
       "</div>"
      ],
      "text/plain": [
       "     Language  Number Of Jobs Average Annual Salary ($) Learning Difficulty\n",
       "0      Python              64                  $114,383                Easy\n",
       "1        Java              96                  $101,013                Easy\n",
       "2           R             200                   $92,037                Hard\n",
       "3  JavaScript              69                  $110,981                Easy\n",
       "4       Swift               2                  $130,801                Easy\n",
       "5         C++             200                  $113,865                Hard\n",
       "6         PHP              35                   $84,727                Easy\n",
       "7         SQL              74                   $84,793                Easy\n",
       "8          Go             154                   $94,082           Difficult"
      ]
     },
     "execution_count": 14,
     "metadata": {},
     "output_type": "execute_result"
    }
   ],
   "source": [
    "df['Language'] = Language\n",
    "df['Number Of Jobs'] = no_of_jobs\n",
    "df['Average Annual Salary ($)'] = Average_Annual_Salary\n",
    "df['Learning Difficulty'] = Learning_Difficulty\n",
    "df"
   ]
  },
  {
   "cell_type": "code",
   "execution_count": 15,
   "metadata": {},
   "outputs": [
    {
     "data": {
      "text/html": [
       "<div>\n",
       "<style scoped>\n",
       "    .dataframe tbody tr th:only-of-type {\n",
       "        vertical-align: middle;\n",
       "    }\n",
       "\n",
       "    .dataframe tbody tr th {\n",
       "        vertical-align: top;\n",
       "    }\n",
       "\n",
       "    .dataframe thead th {\n",
       "        text-align: right;\n",
       "    }\n",
       "</style>\n",
       "<table border=\"1\" class=\"dataframe\">\n",
       "  <thead>\n",
       "    <tr style=\"text-align: right;\">\n",
       "      <th></th>\n",
       "      <th>Language</th>\n",
       "      <th>Number Of Jobs</th>\n",
       "      <th>Average Annual Salary ($)</th>\n",
       "      <th>Learning Difficulty</th>\n",
       "    </tr>\n",
       "  </thead>\n",
       "  <tbody>\n",
       "    <tr>\n",
       "      <th>0</th>\n",
       "      <td>Python</td>\n",
       "      <td>64</td>\n",
       "      <td>114,383</td>\n",
       "      <td>Easy</td>\n",
       "    </tr>\n",
       "    <tr>\n",
       "      <th>1</th>\n",
       "      <td>Java</td>\n",
       "      <td>96</td>\n",
       "      <td>101,013</td>\n",
       "      <td>Easy</td>\n",
       "    </tr>\n",
       "    <tr>\n",
       "      <th>2</th>\n",
       "      <td>R</td>\n",
       "      <td>200</td>\n",
       "      <td>92,037</td>\n",
       "      <td>Hard</td>\n",
       "    </tr>\n",
       "    <tr>\n",
       "      <th>3</th>\n",
       "      <td>JavaScript</td>\n",
       "      <td>69</td>\n",
       "      <td>110,981</td>\n",
       "      <td>Easy</td>\n",
       "    </tr>\n",
       "    <tr>\n",
       "      <th>4</th>\n",
       "      <td>Swift</td>\n",
       "      <td>2</td>\n",
       "      <td>130,801</td>\n",
       "      <td>Easy</td>\n",
       "    </tr>\n",
       "    <tr>\n",
       "      <th>5</th>\n",
       "      <td>C++</td>\n",
       "      <td>200</td>\n",
       "      <td>113,865</td>\n",
       "      <td>Hard</td>\n",
       "    </tr>\n",
       "    <tr>\n",
       "      <th>6</th>\n",
       "      <td>PHP</td>\n",
       "      <td>35</td>\n",
       "      <td>84,727</td>\n",
       "      <td>Easy</td>\n",
       "    </tr>\n",
       "    <tr>\n",
       "      <th>7</th>\n",
       "      <td>SQL</td>\n",
       "      <td>74</td>\n",
       "      <td>84,793</td>\n",
       "      <td>Easy</td>\n",
       "    </tr>\n",
       "    <tr>\n",
       "      <th>8</th>\n",
       "      <td>Go</td>\n",
       "      <td>154</td>\n",
       "      <td>94,082</td>\n",
       "      <td>Difficult</td>\n",
       "    </tr>\n",
       "  </tbody>\n",
       "</table>\n",
       "</div>"
      ],
      "text/plain": [
       "     Language  Number Of Jobs Average Annual Salary ($) Learning Difficulty\n",
       "0      Python              64                   114,383                Easy\n",
       "1        Java              96                   101,013                Easy\n",
       "2           R             200                    92,037                Hard\n",
       "3  JavaScript              69                   110,981                Easy\n",
       "4       Swift               2                   130,801                Easy\n",
       "5         C++             200                   113,865                Hard\n",
       "6         PHP              35                    84,727                Easy\n",
       "7         SQL              74                    84,793                Easy\n",
       "8          Go             154                    94,082           Difficult"
      ]
     },
     "execution_count": 15,
     "metadata": {},
     "output_type": "execute_result"
    }
   ],
   "source": [
    "df['Average Annual Salary ($)'] = df['Average Annual Salary ($)'].str.slice(1)\n",
    "df"
   ]
  },
  {
   "cell_type": "code",
   "execution_count": 16,
   "metadata": {},
   "outputs": [],
   "source": [
    "df['Number Of Jobs'] = df['Number Of Jobs'].astype(int)"
   ]
  },
  {
   "cell_type": "code",
   "execution_count": 17,
   "metadata": {},
   "outputs": [
    {
     "data": {
      "text/html": [
       "<div>\n",
       "<style scoped>\n",
       "    .dataframe tbody tr th:only-of-type {\n",
       "        vertical-align: middle;\n",
       "    }\n",
       "\n",
       "    .dataframe tbody tr th {\n",
       "        vertical-align: top;\n",
       "    }\n",
       "\n",
       "    .dataframe thead th {\n",
       "        text-align: right;\n",
       "    }\n",
       "</style>\n",
       "<table border=\"1\" class=\"dataframe\">\n",
       "  <thead>\n",
       "    <tr style=\"text-align: right;\">\n",
       "      <th></th>\n",
       "      <th>Language</th>\n",
       "      <th>Number Of Jobs</th>\n",
       "      <th>Average Annual Salary ($)</th>\n",
       "      <th>Learning Difficulty</th>\n",
       "    </tr>\n",
       "  </thead>\n",
       "  <tbody>\n",
       "    <tr>\n",
       "      <th>0</th>\n",
       "      <td>Python</td>\n",
       "      <td>64</td>\n",
       "      <td>114,383</td>\n",
       "      <td>Easy</td>\n",
       "    </tr>\n",
       "    <tr>\n",
       "      <th>1</th>\n",
       "      <td>Java</td>\n",
       "      <td>96</td>\n",
       "      <td>101,013</td>\n",
       "      <td>Easy</td>\n",
       "    </tr>\n",
       "    <tr>\n",
       "      <th>2</th>\n",
       "      <td>R</td>\n",
       "      <td>200</td>\n",
       "      <td>92,037</td>\n",
       "      <td>Hard</td>\n",
       "    </tr>\n",
       "    <tr>\n",
       "      <th>3</th>\n",
       "      <td>JavaScript</td>\n",
       "      <td>69</td>\n",
       "      <td>110,981</td>\n",
       "      <td>Easy</td>\n",
       "    </tr>\n",
       "    <tr>\n",
       "      <th>4</th>\n",
       "      <td>Swift</td>\n",
       "      <td>2</td>\n",
       "      <td>130,801</td>\n",
       "      <td>Easy</td>\n",
       "    </tr>\n",
       "    <tr>\n",
       "      <th>5</th>\n",
       "      <td>C++</td>\n",
       "      <td>200</td>\n",
       "      <td>113,865</td>\n",
       "      <td>Hard</td>\n",
       "    </tr>\n",
       "    <tr>\n",
       "      <th>6</th>\n",
       "      <td>PHP</td>\n",
       "      <td>35</td>\n",
       "      <td>84,727</td>\n",
       "      <td>Easy</td>\n",
       "    </tr>\n",
       "    <tr>\n",
       "      <th>7</th>\n",
       "      <td>SQL</td>\n",
       "      <td>74</td>\n",
       "      <td>84,793</td>\n",
       "      <td>Easy</td>\n",
       "    </tr>\n",
       "    <tr>\n",
       "      <th>8</th>\n",
       "      <td>Go</td>\n",
       "      <td>154</td>\n",
       "      <td>94,082</td>\n",
       "      <td>Difficult</td>\n",
       "    </tr>\n",
       "  </tbody>\n",
       "</table>\n",
       "</div>"
      ],
      "text/plain": [
       "     Language  Number Of Jobs Average Annual Salary ($) Learning Difficulty\n",
       "0      Python              64                   114,383                Easy\n",
       "1        Java              96                   101,013                Easy\n",
       "2           R             200                    92,037                Hard\n",
       "3  JavaScript              69                   110,981                Easy\n",
       "4       Swift               2                   130,801                Easy\n",
       "5         C++             200                   113,865                Hard\n",
       "6         PHP              35                    84,727                Easy\n",
       "7         SQL              74                    84,793                Easy\n",
       "8          Go             154                    94,082           Difficult"
      ]
     },
     "execution_count": 17,
     "metadata": {},
     "output_type": "execute_result"
    }
   ],
   "source": [
    "df"
   ]
  },
  {
   "cell_type": "code",
   "execution_count": 18,
   "metadata": {},
   "outputs": [
    {
     "data": {
      "text/html": [
       "<div>\n",
       "<style scoped>\n",
       "    .dataframe tbody tr th:only-of-type {\n",
       "        vertical-align: middle;\n",
       "    }\n",
       "\n",
       "    .dataframe tbody tr th {\n",
       "        vertical-align: top;\n",
       "    }\n",
       "\n",
       "    .dataframe thead th {\n",
       "        text-align: right;\n",
       "    }\n",
       "</style>\n",
       "<table border=\"1\" class=\"dataframe\">\n",
       "  <thead>\n",
       "    <tr style=\"text-align: right;\">\n",
       "      <th></th>\n",
       "      <th>Language</th>\n",
       "      <th>Number Of Jobs</th>\n",
       "      <th>Average Annual Salary ($)</th>\n",
       "      <th>Learning Difficulty</th>\n",
       "    </tr>\n",
       "  </thead>\n",
       "  <tbody>\n",
       "    <tr>\n",
       "      <th>4</th>\n",
       "      <td>Swift</td>\n",
       "      <td>2</td>\n",
       "      <td>130,801</td>\n",
       "      <td>Easy</td>\n",
       "    </tr>\n",
       "    <tr>\n",
       "      <th>6</th>\n",
       "      <td>PHP</td>\n",
       "      <td>35</td>\n",
       "      <td>84,727</td>\n",
       "      <td>Easy</td>\n",
       "    </tr>\n",
       "    <tr>\n",
       "      <th>0</th>\n",
       "      <td>Python</td>\n",
       "      <td>64</td>\n",
       "      <td>114,383</td>\n",
       "      <td>Easy</td>\n",
       "    </tr>\n",
       "    <tr>\n",
       "      <th>3</th>\n",
       "      <td>JavaScript</td>\n",
       "      <td>69</td>\n",
       "      <td>110,981</td>\n",
       "      <td>Easy</td>\n",
       "    </tr>\n",
       "    <tr>\n",
       "      <th>7</th>\n",
       "      <td>SQL</td>\n",
       "      <td>74</td>\n",
       "      <td>84,793</td>\n",
       "      <td>Easy</td>\n",
       "    </tr>\n",
       "    <tr>\n",
       "      <th>1</th>\n",
       "      <td>Java</td>\n",
       "      <td>96</td>\n",
       "      <td>101,013</td>\n",
       "      <td>Easy</td>\n",
       "    </tr>\n",
       "    <tr>\n",
       "      <th>8</th>\n",
       "      <td>Go</td>\n",
       "      <td>154</td>\n",
       "      <td>94,082</td>\n",
       "      <td>Difficult</td>\n",
       "    </tr>\n",
       "    <tr>\n",
       "      <th>2</th>\n",
       "      <td>R</td>\n",
       "      <td>200</td>\n",
       "      <td>92,037</td>\n",
       "      <td>Hard</td>\n",
       "    </tr>\n",
       "    <tr>\n",
       "      <th>5</th>\n",
       "      <td>C++</td>\n",
       "      <td>200</td>\n",
       "      <td>113,865</td>\n",
       "      <td>Hard</td>\n",
       "    </tr>\n",
       "  </tbody>\n",
       "</table>\n",
       "</div>"
      ],
      "text/plain": [
       "     Language  Number Of Jobs Average Annual Salary ($) Learning Difficulty\n",
       "4       Swift               2                   130,801                Easy\n",
       "6         PHP              35                    84,727                Easy\n",
       "0      Python              64                   114,383                Easy\n",
       "3  JavaScript              69                   110,981                Easy\n",
       "7         SQL              74                    84,793                Easy\n",
       "1        Java              96                   101,013                Easy\n",
       "8          Go             154                    94,082           Difficult\n",
       "2           R             200                    92,037                Hard\n",
       "5         C++             200                   113,865                Hard"
      ]
     },
     "execution_count": 18,
     "metadata": {},
     "output_type": "execute_result"
    }
   ],
   "source": [
    "df_sorted = df.sort_values('Number Of Jobs')\n",
    "df_sorted"
   ]
  },
  {
   "cell_type": "code",
   "execution_count": 19,
   "metadata": {},
   "outputs": [
    {
     "data": {
      "text/plain": [
       "RangeIndex(start=0, stop=9, step=1)"
      ]
     },
     "execution_count": 19,
     "metadata": {},
     "output_type": "execute_result"
    }
   ],
   "source": [
    "df_sorted.reset_index(drop = True, inplace = True)\n",
    "df_sorted.index"
   ]
  },
  {
   "cell_type": "code",
   "execution_count": 20,
   "metadata": {},
   "outputs": [
    {
     "data": {
      "text/html": [
       "<div>\n",
       "<style scoped>\n",
       "    .dataframe tbody tr th:only-of-type {\n",
       "        vertical-align: middle;\n",
       "    }\n",
       "\n",
       "    .dataframe tbody tr th {\n",
       "        vertical-align: top;\n",
       "    }\n",
       "\n",
       "    .dataframe thead th {\n",
       "        text-align: right;\n",
       "    }\n",
       "</style>\n",
       "<table border=\"1\" class=\"dataframe\">\n",
       "  <thead>\n",
       "    <tr style=\"text-align: right;\">\n",
       "      <th></th>\n",
       "      <th>Language</th>\n",
       "      <th>Number Of Jobs</th>\n",
       "      <th>Average Annual Salary ($)</th>\n",
       "      <th>Learning Difficulty</th>\n",
       "    </tr>\n",
       "  </thead>\n",
       "  <tbody>\n",
       "    <tr>\n",
       "      <th>0</th>\n",
       "      <td>Swift</td>\n",
       "      <td>2</td>\n",
       "      <td>130,801</td>\n",
       "      <td>Easy</td>\n",
       "    </tr>\n",
       "    <tr>\n",
       "      <th>1</th>\n",
       "      <td>PHP</td>\n",
       "      <td>35</td>\n",
       "      <td>84,727</td>\n",
       "      <td>Easy</td>\n",
       "    </tr>\n",
       "    <tr>\n",
       "      <th>2</th>\n",
       "      <td>Python</td>\n",
       "      <td>64</td>\n",
       "      <td>114,383</td>\n",
       "      <td>Easy</td>\n",
       "    </tr>\n",
       "    <tr>\n",
       "      <th>3</th>\n",
       "      <td>JavaScript</td>\n",
       "      <td>69</td>\n",
       "      <td>110,981</td>\n",
       "      <td>Easy</td>\n",
       "    </tr>\n",
       "    <tr>\n",
       "      <th>4</th>\n",
       "      <td>SQL</td>\n",
       "      <td>74</td>\n",
       "      <td>84,793</td>\n",
       "      <td>Easy</td>\n",
       "    </tr>\n",
       "    <tr>\n",
       "      <th>5</th>\n",
       "      <td>Java</td>\n",
       "      <td>96</td>\n",
       "      <td>101,013</td>\n",
       "      <td>Easy</td>\n",
       "    </tr>\n",
       "    <tr>\n",
       "      <th>6</th>\n",
       "      <td>Go</td>\n",
       "      <td>154</td>\n",
       "      <td>94,082</td>\n",
       "      <td>Difficult</td>\n",
       "    </tr>\n",
       "    <tr>\n",
       "      <th>7</th>\n",
       "      <td>R</td>\n",
       "      <td>200</td>\n",
       "      <td>92,037</td>\n",
       "      <td>Hard</td>\n",
       "    </tr>\n",
       "    <tr>\n",
       "      <th>8</th>\n",
       "      <td>C++</td>\n",
       "      <td>200</td>\n",
       "      <td>113,865</td>\n",
       "      <td>Hard</td>\n",
       "    </tr>\n",
       "  </tbody>\n",
       "</table>\n",
       "</div>"
      ],
      "text/plain": [
       "     Language  Number Of Jobs Average Annual Salary ($) Learning Difficulty\n",
       "0       Swift               2                   130,801                Easy\n",
       "1         PHP              35                    84,727                Easy\n",
       "2      Python              64                   114,383                Easy\n",
       "3  JavaScript              69                   110,981                Easy\n",
       "4         SQL              74                    84,793                Easy\n",
       "5        Java              96                   101,013                Easy\n",
       "6          Go             154                    94,082           Difficult\n",
       "7           R             200                    92,037                Hard\n",
       "8         C++             200                   113,865                Hard"
      ]
     },
     "execution_count": 20,
     "metadata": {},
     "output_type": "execute_result"
    }
   ],
   "source": [
    "df_sorted"
   ]
  },
  {
   "cell_type": "code",
   "execution_count": 21,
   "metadata": {},
   "outputs": [
    {
     "data": {
      "image/png": "[encoded data removed]",
      "text/plain": [
       "<Figure size 432x288 with 1 Axes>"
      ]
     },
     "metadata": {
      "needs_background": "light"
     },
     "output_type": "display_data"
    }
   ],
   "source": [
    "plt.barh('Language', 'Number Of Jobs', data = df_sorted, color='olive', edgecolor='black')\n",
    "plt.title('Languages in Demand', fontsize=20)\n",
    "plt.xlabel('Number of Jobs')\n",
    "plt.ylabel('Language')\n",
    "plt.show()"
   ]
  },
  {
   "cell_type": "code",
   "execution_count": 22,
   "metadata": {},
   "outputs": [],
   "source": [
    "a = df[df['Learning Difficulty'] == 'Easy']\n",
    "b = df[df['Learning Difficulty'] == 'Hard']\n",
    "c = df[df['Learning Difficulty'] == 'Difficult']"
   ]
  },
  {
   "cell_type": "code",
   "execution_count": 23,
   "metadata": {},
   "outputs": [
    {
     "data": {
      "image/png": "[encoded data removed]",
      "text/plain": [
       "<Figure size 432x288 with 1 Axes>"
      ]
     },
     "metadata": {},
     "output_type": "display_data"
    }
   ],
   "source": [
    "list = [len(a), len(b), len(c)]\n",
    "labels = ['Easy', 'Hard', 'Difficult']\n",
    "plt.pie(list, labels=labels, autopct='%.2f%%', counterclock=False)\n",
    "plt.show()"
   ]
  },
  {
   "cell_type": "code",
   "execution_count": 24,
   "metadata": {},
   "outputs": [],
   "source": [
    "import seaborn as sns"
   ]
  },
  {
   "cell_type": "code",
   "execution_count": 25,
   "metadata": {},
   "outputs": [
    {
     "data": {
      "text/html": [
       "<div>\n",
       "<style scoped>\n",
       "    .dataframe tbody tr th:only-of-type {\n",
       "        vertical-align: middle;\n",
       "    }\n",
       "\n",
       "    .dataframe tbody tr th {\n",
       "        vertical-align: top;\n",
       "    }\n",
       "\n",
       "    .dataframe thead th {\n",
       "        text-align: right;\n",
       "    }\n",
       "</style>\n",
       "<table border=\"1\" class=\"dataframe\">\n",
       "  <thead>\n",
       "    <tr style=\"text-align: right;\">\n",
       "      <th></th>\n",
       "      <th>Language</th>\n",
       "      <th>Number Of Jobs</th>\n",
       "      <th>Average Annual Salary ($)</th>\n",
       "      <th>Learning Difficulty</th>\n",
       "    </tr>\n",
       "  </thead>\n",
       "  <tbody>\n",
       "    <tr>\n",
       "      <th>0</th>\n",
       "      <td>Swift</td>\n",
       "      <td>2</td>\n",
       "      <td>130801</td>\n",
       "      <td>Easy</td>\n",
       "    </tr>\n",
       "    <tr>\n",
       "      <th>1</th>\n",
       "      <td>PHP</td>\n",
       "      <td>35</td>\n",
       "      <td>84727</td>\n",
       "      <td>Easy</td>\n",
       "    </tr>\n",
       "    <tr>\n",
       "      <th>2</th>\n",
       "      <td>Python</td>\n",
       "      <td>64</td>\n",
       "      <td>114383</td>\n",
       "      <td>Easy</td>\n",
       "    </tr>\n",
       "    <tr>\n",
       "      <th>3</th>\n",
       "      <td>JavaScript</td>\n",
       "      <td>69</td>\n",
       "      <td>110981</td>\n",
       "      <td>Easy</td>\n",
       "    </tr>\n",
       "    <tr>\n",
       "      <th>4</th>\n",
       "      <td>SQL</td>\n",
       "      <td>74</td>\n",
       "      <td>84793</td>\n",
       "      <td>Easy</td>\n",
       "    </tr>\n",
       "    <tr>\n",
       "      <th>5</th>\n",
       "      <td>Java</td>\n",
       "      <td>96</td>\n",
       "      <td>101013</td>\n",
       "      <td>Easy</td>\n",
       "    </tr>\n",
       "    <tr>\n",
       "      <th>6</th>\n",
       "      <td>Go</td>\n",
       "      <td>154</td>\n",
       "      <td>94082</td>\n",
       "      <td>Difficult</td>\n",
       "    </tr>\n",
       "    <tr>\n",
       "      <th>7</th>\n",
       "      <td>R</td>\n",
       "      <td>200</td>\n",
       "      <td>92037</td>\n",
       "      <td>Hard</td>\n",
       "    </tr>\n",
       "    <tr>\n",
       "      <th>8</th>\n",
       "      <td>C++</td>\n",
       "      <td>200</td>\n",
       "      <td>113865</td>\n",
       "      <td>Hard</td>\n",
       "    </tr>\n",
       "  </tbody>\n",
       "</table>\n",
       "</div>"
      ],
      "text/plain": [
       "     Language  Number Of Jobs  Average Annual Salary ($) Learning Difficulty\n",
       "0       Swift               2                     130801                Easy\n",
       "1         PHP              35                      84727                Easy\n",
       "2      Python              64                     114383                Easy\n",
       "3  JavaScript              69                     110981                Easy\n",
       "4         SQL              74                      84793                Easy\n",
       "5        Java              96                     101013                Easy\n",
       "6          Go             154                      94082           Difficult\n",
       "7           R             200                      92037                Hard\n",
       "8         C++             200                     113865                Hard"
      ]
     },
     "execution_count": 25,
     "metadata": {},
     "output_type": "execute_result"
    }
   ],
   "source": [
    "df_sorted['Average Annual Salary ($)'] = df_sorted['Average Annual Salary ($)'].str.replace(',', '').astype(int)\n",
    "df_sorted"
   ]
  },
  {
   "cell_type": "code",
   "execution_count": 26,
   "metadata": {},
   "outputs": [
    {
     "data": {
      "image/png": "[encoded data removed]",
      "text/plain": [
       "<Figure size 432x288 with 1 Axes>"
      ]
     },
     "metadata": {
      "needs_background": "light"
     },
     "output_type": "display_data"
    }
   ],
   "source": [
    "sns.barplot(x='Language', y=\"Average Annual Salary ($)\", data=df_sorted, order=df_sorted.sort_values('Average Annual Salary ($)').Language)\n",
    "plt.title('Highest Paid Jobs', fontsize=20)\n",
    "plt.xticks(rotation = 90)\n",
    "plt.show()"
   ]
  },
  {
   "cell_type": "code",
   "execution_count": 27,
   "metadata": {},
   "outputs": [
    {
     "data": {
      "image/png": "[encoded data removed]",
      "text/plain": [
       "<Figure size 432x288 with 1 Axes>"
      ]
     },
     "metadata": {
      "needs_background": "light"
     },
     "output_type": "display_data"
    }
   ],
   "source": [
    "plt.scatter(y='Average Annual Salary ($)', x='Language', s='Number Of Jobs', data=df_sorted, color='r')\n",
    "plt.title('Highest Paid Jobs by Number of Jobs', fontsize=20)\n",
    "plt.xlabel('Language')\n",
    "plt.ylabel('Avaerage Annual Salary ($)')\n",
    "plt.xticks(rotation=45)\n",
    "plt.show()"
   ]
  },
  {
   "cell_type": "code",
   "execution_count": 47,
   "metadata": {},
   "outputs": [],
   "source": [
    "a = df_sorted['Language']\n",
    "b = df_sorted['Number Of Jobs']\n",
    "c = df_sorted['Average Annual Salary ($)']\n",
    "d = df_sorted['Learning Difficulty']"
   ]
  },
  {
   "cell_type": "code",
   "execution_count": 48,
   "metadata": {},
   "outputs": [],
   "source": [
    "from openpyxl import Workbook"
   ]
  },
  {
   "cell_type": "code",
   "execution_count": 49,
   "metadata": {},
   "outputs": [],
   "source": [
    "wb=Workbook()                   \n",
    "ws=wb.active  "
   ]
  },
  {
   "cell_type": "code",
   "execution_count": 50,
   "metadata": {},
   "outputs": [],
   "source": [
    "ws.append(['Language','Number Of Jobs', 'Average Annual Salary ($)', 'Learning Difficulty'])\n",
    "\n",
    "for i in range(len(a)):\n",
    "    ws.append([a[i], b[i], c[i], d[i]])"
   ]
  },
  {
   "cell_type": "code",
   "execution_count": 51,
   "metadata": {},
   "outputs": [],
   "source": [
    "wb.save(\"Analysis Of Programming Languages.xlsx\")"
   ]
  }
 ],
 "metadata": {
  "kernelspec": {
   "display_name": "Python 3",
   "language": "python",
   "name": "python3"
  },
  "language_info": {
   "codemirror_mode": {
    "name": "ipython",
    "version": 3
   },
   "file_extension": ".py",
   "mimetype": "text/x-python",
   "name": "python",
   "nbconvert_exporter": "python",
   "pygments_lexer": "ipython3",
   "version": "3.8.3"
  }
 },
 "nbformat": 4,
 "nbformat_minor": 4
}
